{
 "cells": [
  {
   "cell_type": "code",
   "execution_count": 1,
   "id": "d6b2a60f",
   "metadata": {},
   "outputs": [],
   "source": [
    "import mysql\n",
    "import pandas as pd\n",
    "import mysql.connector as connection\n",
    "\n",
    "from google.cloud import bigquery"
   ]
  },
  {
   "cell_type": "code",
   "execution_count": 2,
   "id": "b52700ec",
   "metadata": {},
   "outputs": [],
   "source": [
    "import config"
   ]
  },
  {
   "cell_type": "code",
   "execution_count": 3,
   "id": "315ddb47",
   "metadata": {},
   "outputs": [],
   "source": [
    "import os\n",
    "\n",
    "os.environ['GOOGLE_APPLICATION_CREDENTIALS'] = config.KEY"
   ]
  },
  {
   "cell_type": "code",
   "execution_count": 4,
   "id": "81fcf8c5",
   "metadata": {},
   "outputs": [],
   "source": [
    "# Funcion para obtener tablas del db de origen\n",
    "def get_tables(db, db_name):\n",
    "    cursor = db.cursor()\n",
    "    cursor.execute(f\"USE {db_name}\") # select the database\n",
    "    cursor.execute(\"SHOW TABLES\")\n",
    "    tables = cursor.fetchall()\n",
    "    tables = [table[0] for table in tables]\n",
    "    return tables"
   ]
  },
  {
   "cell_type": "code",
   "execution_count": 5,
   "id": "2e603135",
   "metadata": {},
   "outputs": [],
   "source": [
    "# Funcion para obtener una consulta query de la db de origen y exportarlo a un dataframe de pandas\n",
    "def get_df(db, db_name, table):\n",
    "    sql = f'select * from {db_name}.{table}'\n",
    "    df = pd.read_sql(sql, db) \n",
    "    return df"
   ]
  },
  {
   "cell_type": "code",
   "execution_count": 6,
   "id": "cc75de4d",
   "metadata": {},
   "outputs": [],
   "source": [
    "# Funcion para obtener la tabla id y la propiedad de la tabla\n",
    "def get_table_property(client, table, idformat, zona):\n",
    "    tabla_id = idformat + f\"{table}_{zona}\"\n",
    "    tabla_property = client.get_table(tabla_id)\n",
    "    return tabla_id, tabla_property"
   ]
  },
  {
   "cell_type": "code",
   "execution_count": 7,
   "id": "cfb11a82",
   "metadata": {},
   "outputs": [],
   "source": [
    "# Funcion para obtener la configuracion del trabajo\n",
    "def get_job_configuration(tabla_property):\n",
    "    job_configuration = bigquery.LoadJobConfig(\n",
    "        schema=tabla_property.schema,\n",
    "        write_disposition='WRITE_TRUNCATE'    \n",
    "    )\n",
    "    return job_configuration"
   ]
  },
  {
   "cell_type": "code",
   "execution_count": 8,
   "id": "54e68b50",
   "metadata": {},
   "outputs": [],
   "source": [
    "# Funcion para cargar los dataframes a BigQuery\n",
    "def load_table(client, df, tabla_id, job_configuration):\n",
    "    client.load_table_from_dataframe(\n",
    "        df,tabla_id,job_config=job_configuration\n",
    "    )"
   ]
  },
  {
   "cell_type": "code",
   "execution_count": 11,
   "id": "0a042479",
   "metadata": {},
   "outputs": [],
   "source": [
    "# Funcion principal, donde se ejecutarán las otras funciones\n",
    "def main():\n",
    "    # Creaciń del cliente\n",
    "    client = bigquery.Client()\n",
    "    \n",
    "    # Conexión a la base de datos de origen\n",
    "    mydb = mysql.connector.connect(\n",
    "        host=config.HOST,\n",
    "        user=config.USER,\n",
    "        passwd=config.PASS,\n",
    "        database=config.DB\n",
    "    )\n",
    "    tables = get_tables(mydb, config.DB)\n",
    "    \n",
    "    # String de formato con el proyecto ID y conjunto de datos de destino\n",
    "    id_format = f'{config.PROYECTID}.{config.DATOS}.{config.ORIGEN}_'\n",
    "    \n",
    "    errores = []\n",
    "    # Loop para tablas que se desean cargar\n",
    "    for table in tables: \n",
    "        try:\n",
    "            df = get_df(mydb, config.DB, table)\n",
    "\n",
    "            tabla_id, table_property = get_table_property(client, table, id_format, config.DLZONA)\n",
    "\n",
    "            job_configuration = get_job_configuration(table_property)\n",
    "\n",
    "            load_table(client, df, tabla_id, job_configuration)  \n",
    "            print(f'Tabla {table} cargada exitosamente')\n",
    "        except Exception as e:\n",
    "            print(f'Error en Tabla {table}: {e}')\n",
    "            errores.append((table, e))\n",
    "            \n",
    "    mydb.close()  \n",
    "    if not errores:\n",
    "        print(\"Carga de Datos Exitosa.\")\n",
    "    else:\n",
    "        print('Errores en las siguientes tablas')\n",
    "        for table, exception in errores:\n",
    "            print(f'{table}: {exception}')"
   ]
  },
  {
   "cell_type": "code",
   "execution_count": 12,
   "id": "dea13ea2",
   "metadata": {},
   "outputs": [
    {
     "name": "stderr",
     "output_type": "stream",
     "text": [
      "/tmp/ipykernel_7767/3435585143.py:4: UserWarning: pandas only supports SQLAlchemy connectable (engine/connection) or database string URI or sqlite3 DBAPI2 connection. Other DBAPI2 objects are not tested. Please consider using SQLAlchemy.\n",
      "  df = pd.read_sql(sql, db)\n"
     ]
    },
    {
     "name": "stdout",
     "output_type": "stream",
     "text": [
      "Tabla customers cargada exitosamente\n"
     ]
    },
    {
     "name": "stderr",
     "output_type": "stream",
     "text": [
      "/tmp/ipykernel_7767/3435585143.py:4: UserWarning: pandas only supports SQLAlchemy connectable (engine/connection) or database string URI or sqlite3 DBAPI2 connection. Other DBAPI2 objects are not tested. Please consider using SQLAlchemy.\n",
      "  df = pd.read_sql(sql, db)\n"
     ]
    },
    {
     "name": "stdout",
     "output_type": "stream",
     "text": [
      "Tabla employees cargada exitosamente\n"
     ]
    },
    {
     "name": "stderr",
     "output_type": "stream",
     "text": [
      "/tmp/ipykernel_7767/3435585143.py:4: UserWarning: pandas only supports SQLAlchemy connectable (engine/connection) or database string URI or sqlite3 DBAPI2 connection. Other DBAPI2 objects are not tested. Please consider using SQLAlchemy.\n",
      "  df = pd.read_sql(sql, db)\n"
     ]
    },
    {
     "name": "stdout",
     "output_type": "stream",
     "text": [
      "Tabla offices cargada exitosamente\n"
     ]
    },
    {
     "name": "stderr",
     "output_type": "stream",
     "text": [
      "/tmp/ipykernel_7767/3435585143.py:4: UserWarning: pandas only supports SQLAlchemy connectable (engine/connection) or database string URI or sqlite3 DBAPI2 connection. Other DBAPI2 objects are not tested. Please consider using SQLAlchemy.\n",
      "  df = pd.read_sql(sql, db)\n"
     ]
    },
    {
     "name": "stdout",
     "output_type": "stream",
     "text": [
      "Tabla orderdetails cargada exitosamente\n"
     ]
    },
    {
     "name": "stderr",
     "output_type": "stream",
     "text": [
      "/tmp/ipykernel_7767/3435585143.py:4: UserWarning: pandas only supports SQLAlchemy connectable (engine/connection) or database string URI or sqlite3 DBAPI2 connection. Other DBAPI2 objects are not tested. Please consider using SQLAlchemy.\n",
      "  df = pd.read_sql(sql, db)\n"
     ]
    },
    {
     "name": "stdout",
     "output_type": "stream",
     "text": [
      "Tabla orders cargada exitosamente\n"
     ]
    },
    {
     "name": "stderr",
     "output_type": "stream",
     "text": [
      "/tmp/ipykernel_7767/3435585143.py:4: UserWarning: pandas only supports SQLAlchemy connectable (engine/connection) or database string URI or sqlite3 DBAPI2 connection. Other DBAPI2 objects are not tested. Please consider using SQLAlchemy.\n",
      "  df = pd.read_sql(sql, db)\n"
     ]
    },
    {
     "name": "stdout",
     "output_type": "stream",
     "text": [
      "Tabla payments cargada exitosamente\n"
     ]
    },
    {
     "name": "stderr",
     "output_type": "stream",
     "text": [
      "/tmp/ipykernel_7767/3435585143.py:4: UserWarning: pandas only supports SQLAlchemy connectable (engine/connection) or database string URI or sqlite3 DBAPI2 connection. Other DBAPI2 objects are not tested. Please consider using SQLAlchemy.\n",
      "  df = pd.read_sql(sql, db)\n"
     ]
    },
    {
     "name": "stdout",
     "output_type": "stream",
     "text": [
      "Tabla productlines cargada exitosamente\n"
     ]
    },
    {
     "name": "stderr",
     "output_type": "stream",
     "text": [
      "/tmp/ipykernel_7767/3435585143.py:4: UserWarning: pandas only supports SQLAlchemy connectable (engine/connection) or database string URI or sqlite3 DBAPI2 connection. Other DBAPI2 objects are not tested. Please consider using SQLAlchemy.\n",
      "  df = pd.read_sql(sql, db)\n"
     ]
    },
    {
     "name": "stdout",
     "output_type": "stream",
     "text": [
      "Tabla products cargada exitosamente\n",
      "Carga de Datos Exitosa.\n"
     ]
    }
   ],
   "source": [
    "main()"
   ]
  },
  {
   "cell_type": "code",
   "execution_count": null,
   "id": "eb50ba78",
   "metadata": {},
   "outputs": [],
   "source": []
  }
 ],
 "metadata": {
  "kernelspec": {
   "display_name": "Python 3 (ipykernel)",
   "language": "python",
   "name": "python3"
  },
  "language_info": {
   "codemirror_mode": {
    "name": "ipython",
    "version": 3
   },
   "file_extension": ".py",
   "mimetype": "text/x-python",
   "name": "python",
   "nbconvert_exporter": "python",
   "pygments_lexer": "ipython3",
   "version": "3.10.6"
  }
 },
 "nbformat": 4,
 "nbformat_minor": 5
}
